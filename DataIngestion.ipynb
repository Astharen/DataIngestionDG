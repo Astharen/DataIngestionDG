{
 "cells": [
  {
   "cell_type": "code",
   "execution_count": 1,
   "id": "14a0ef65",
   "metadata": {},
   "outputs": [],
   "source": [
    "import dask.dataframe as dd\n",
    "import pandas as pd"
   ]
  },
  {
   "cell_type": "markdown",
   "id": "034599fb",
   "metadata": {},
   "source": [
    "# Reading the file"
   ]
  },
  {
   "cell_type": "code",
   "execution_count": 2,
   "id": "0eb2ae8d",
   "metadata": {},
   "outputs": [],
   "source": [
    "file_name = 'data/KernelVersionOutputFiles.csv'"
   ]
  },
  {
   "cell_type": "markdown",
   "id": "e427a914",
   "metadata": {},
   "source": [
    "## Dask"
   ]
  },
  {
   "cell_type": "code",
   "execution_count": 3,
   "id": "25444f5a",
   "metadata": {},
   "outputs": [
    {
     "name": "stdout",
     "output_type": "stream",
     "text": [
      "13 ms ± 4.33 ms per loop (mean ± std. dev. of 3 runs, 1 loop each)\n"
     ]
    }
   ],
   "source": [
    "%%timeit -r 3 -n 1 -t\n",
    "\n",
    "df = dd.read_csv(file_name, sep=',')"
   ]
  },
  {
   "cell_type": "code",
   "execution_count": 5,
   "id": "329e59e5",
   "metadata": {},
   "outputs": [],
   "source": [
    "df = dd.read_csv(file_name, sep=',', dtype={'CompressionTypeExtension': 'object'})"
   ]
  },
  {
   "cell_type": "code",
   "execution_count": 6,
   "id": "b6a3672a",
   "metadata": {},
   "outputs": [
    {
     "data": {
      "text/plain": [
       "(Delayed('int-88cabe91-7321-4144-a8aa-9be05c96d375'), 6)"
      ]
     },
     "execution_count": 6,
     "metadata": {},
     "output_type": "execute_result"
    }
   ],
   "source": [
    "df.shape"
   ]
  },
  {
   "cell_type": "code",
   "execution_count": 5,
   "id": "a9ca8714",
   "metadata": {},
   "outputs": [
    {
     "data": {
      "text/html": [
       "<div>\n",
       "<style scoped>\n",
       "    .dataframe tbody tr th:only-of-type {\n",
       "        vertical-align: middle;\n",
       "    }\n",
       "\n",
       "    .dataframe tbody tr th {\n",
       "        vertical-align: top;\n",
       "    }\n",
       "\n",
       "    .dataframe thead th {\n",
       "        text-align: right;\n",
       "    }\n",
       "</style>\n",
       "<table border=\"1\" class=\"dataframe\">\n",
       "  <thead>\n",
       "    <tr style=\"text-align: right;\">\n",
       "      <th></th>\n",
       "      <th>Id</th>\n",
       "      <th>KernelVersionId</th>\n",
       "      <th>FileName</th>\n",
       "      <th>ContentLength</th>\n",
       "      <th>ContentTypeExtension</th>\n",
       "      <th>CompressionTypeExtension</th>\n",
       "    </tr>\n",
       "  </thead>\n",
       "  <tbody>\n",
       "    <tr>\n",
       "      <th>0</th>\n",
       "      <td>1</td>\n",
       "      <td>2</td>\n",
       "      <td>DigitsEmbedding.png</td>\n",
       "      <td>95544</td>\n",
       "      <td>.png</td>\n",
       "      <td>NaN</td>\n",
       "    </tr>\n",
       "    <tr>\n",
       "      <th>1</th>\n",
       "      <td>47</td>\n",
       "      <td>59</td>\n",
       "      <td>digit.png</td>\n",
       "      <td>52771</td>\n",
       "      <td>.png</td>\n",
       "      <td>NaN</td>\n",
       "    </tr>\n",
       "    <tr>\n",
       "      <th>2</th>\n",
       "      <td>48</td>\n",
       "      <td>59</td>\n",
       "      <td>digit2.png</td>\n",
       "      <td>7393</td>\n",
       "      <td>.png</td>\n",
       "      <td>NaN</td>\n",
       "    </tr>\n",
       "    <tr>\n",
       "      <th>3</th>\n",
       "      <td>65</td>\n",
       "      <td>70</td>\n",
       "      <td>digit.png</td>\n",
       "      <td>52771</td>\n",
       "      <td>.png</td>\n",
       "      <td>NaN</td>\n",
       "    </tr>\n",
       "    <tr>\n",
       "      <th>4</th>\n",
       "      <td>66</td>\n",
       "      <td>70</td>\n",
       "      <td>digit2.png</td>\n",
       "      <td>7393</td>\n",
       "      <td>.png</td>\n",
       "      <td>NaN</td>\n",
       "    </tr>\n",
       "  </tbody>\n",
       "</table>\n",
       "</div>"
      ],
      "text/plain": [
       "   Id  KernelVersionId             FileName  ContentLength  \\\n",
       "0   1                2  DigitsEmbedding.png          95544   \n",
       "1  47               59            digit.png          52771   \n",
       "2  48               59           digit2.png           7393   \n",
       "3  65               70            digit.png          52771   \n",
       "4  66               70           digit2.png           7393   \n",
       "\n",
       "  ContentTypeExtension CompressionTypeExtension  \n",
       "0                 .png                      NaN  \n",
       "1                 .png                      NaN  \n",
       "2                 .png                      NaN  \n",
       "3                 .png                      NaN  \n",
       "4                 .png                      NaN  "
      ]
     },
     "execution_count": 5,
     "metadata": {},
     "output_type": "execute_result"
    }
   ],
   "source": [
    "df.head()"
   ]
  },
  {
   "cell_type": "code",
   "execution_count": 6,
   "id": "467cc51d",
   "metadata": {
    "scrolled": true
   },
   "outputs": [
    {
     "data": {
      "text/plain": [
       "Index(['Id', 'KernelVersionId', 'FileName', 'ContentLength',\n",
       "       'ContentTypeExtension', 'CompressionTypeExtension'],\n",
       "      dtype='object')"
      ]
     },
     "execution_count": 6,
     "metadata": {},
     "output_type": "execute_result"
    }
   ],
   "source": [
    "df.columns"
   ]
  },
  {
   "cell_type": "code",
   "execution_count": 7,
   "id": "a9e12680",
   "metadata": {},
   "outputs": [
    {
     "data": {
      "text/html": [
       "<div>\n",
       "<style scoped>\n",
       "    .dataframe tbody tr th:only-of-type {\n",
       "        vertical-align: middle;\n",
       "    }\n",
       "\n",
       "    .dataframe tbody tr th {\n",
       "        vertical-align: top;\n",
       "    }\n",
       "\n",
       "    .dataframe thead th {\n",
       "        text-align: right;\n",
       "    }\n",
       "</style>\n",
       "<table border=\"1\" class=\"dataframe\">\n",
       "  <thead>\n",
       "    <tr style=\"text-align: right;\">\n",
       "      <th></th>\n",
       "      <th>Id</th>\n",
       "      <th>KernelVersionId</th>\n",
       "      <th>FileName</th>\n",
       "      <th>ContentLength</th>\n",
       "      <th>ContentTypeExtension</th>\n",
       "      <th>CompressionTypeExtension</th>\n",
       "    </tr>\n",
       "  </thead>\n",
       "  <tbody>\n",
       "    <tr>\n",
       "      <th>617378</th>\n",
       "      <td>1308429688</td>\n",
       "      <td>63943610</td>\n",
       "      <td>__results___files/__results___22_0.png</td>\n",
       "      <td>7772</td>\n",
       "      <td>.png</td>\n",
       "      <td>NaN</td>\n",
       "    </tr>\n",
       "    <tr>\n",
       "      <th>617379</th>\n",
       "      <td>1308429689</td>\n",
       "      <td>63943610</td>\n",
       "      <td>custom.css</td>\n",
       "      <td>0</td>\n",
       "      <td>.css</td>\n",
       "      <td>NaN</td>\n",
       "    </tr>\n",
       "    <tr>\n",
       "      <th>617380</th>\n",
       "      <td>1308429690</td>\n",
       "      <td>63943610</td>\n",
       "      <td>maevsepoch.jpg</td>\n",
       "      <td>2571</td>\n",
       "      <td>.jpg</td>\n",
       "      <td>NaN</td>\n",
       "    </tr>\n",
       "    <tr>\n",
       "      <th>617381</th>\n",
       "      <td>1308429691</td>\n",
       "      <td>63943610</td>\n",
       "      <td>msevsepoch.jpg</td>\n",
       "      <td>2571</td>\n",
       "      <td>.jpg</td>\n",
       "      <td>NaN</td>\n",
       "    </tr>\n",
       "    <tr>\n",
       "      <th>617382</th>\n",
       "      <td>1308541184</td>\n",
       "      <td>63943610</td>\n",
       "      <td>__resultx__.html</td>\n",
       "      <td>352598</td>\n",
       "      <td>.html</td>\n",
       "      <td>NaN</td>\n",
       "    </tr>\n",
       "  </tbody>\n",
       "</table>\n",
       "</div>"
      ],
      "text/plain": [
       "                Id  KernelVersionId                                FileName  \\\n",
       "617378  1308429688         63943610  __results___files/__results___22_0.png   \n",
       "617379  1308429689         63943610                              custom.css   \n",
       "617380  1308429690         63943610                          maevsepoch.jpg   \n",
       "617381  1308429691         63943610                          msevsepoch.jpg   \n",
       "617382  1308541184         63943610                        __resultx__.html   \n",
       "\n",
       "        ContentLength ContentTypeExtension CompressionTypeExtension  \n",
       "617378           7772                 .png                      NaN  \n",
       "617379              0                 .css                      NaN  \n",
       "617380           2571                 .jpg                      NaN  \n",
       "617381           2571                 .jpg                      NaN  \n",
       "617382         352598                .html                      NaN  "
      ]
     },
     "execution_count": 7,
     "metadata": {},
     "output_type": "execute_result"
    }
   ],
   "source": [
    "df.tail()"
   ]
  },
  {
   "cell_type": "markdown",
   "id": "1c685d78",
   "metadata": {},
   "source": [
    "## Modin(ray)"
   ]
  },
  {
   "cell_type": "markdown",
   "id": "ce943e29",
   "metadata": {},
   "source": [
    "import modin.pandas as mpd\n",
    "import os\n",
    "\n",
    "os.environ[\"MODIN_ENGINE\"] = \"ray\""
   ]
  },
  {
   "cell_type": "markdown",
   "id": "842b3a7e",
   "metadata": {},
   "source": [
    "%%timeit -r 3 -n 1 -t\n",
    "\n",
    "import ray\n",
    "\n",
    "ray.shutdown()\n",
    "\n",
    "ray.init()\n",
    "\n",
    "df1 = mpd.read_csv(file_name, sep=',', usecols = ['Id', 'KernelVersionId', 'FileName', 'ContentLength', 'ContentTypeExtension'])\n",
    "\n",
    "ray.shutdown()"
   ]
  },
  {
   "cell_type": "markdown",
   "id": "46b0418d",
   "metadata": {},
   "source": [
    "## Pandas"
   ]
  },
  {
   "cell_type": "markdown",
   "id": "750d3a84",
   "metadata": {},
   "source": [
    "%%timeit -r 3 -n 1 -t\n",
    "\n",
    "df2 = pd.read_csv(file_name, sep=',', dtype={'CompressionTypeExtension': 'object'}, usecols = ['Id', 'KernelVersionId', 'FileName', 'ContentLength', 'ContentTypeExtension'])"
   ]
  },
  {
   "cell_type": "markdown",
   "id": "f4bbf355",
   "metadata": {},
   "source": [
    "df2 = pd.read_csv(file_name, sep=',', dtype={'CompressionTypeExtension': 'object'}, usecols = ['Id', 'KernelVersionId', 'FileName', 'ContentLength', 'ContentTypeExtension'])\n",
    "df2.head()"
   ]
  },
  {
   "cell_type": "markdown",
   "id": "7db99038",
   "metadata": {},
   "source": [
    "### Pandas and Modin(ray) consume all the resources when reading the csv file since it seems is too long for them. Also, that's the reason why I have not been able to convert the df to a pandas dataframe afterwards and had to change a few lines of code from the testutility"
   ]
  },
  {
   "cell_type": "markdown",
   "id": "9c10ee69",
   "metadata": {},
   "source": [
    "# testutility"
   ]
  },
  {
   "cell_type": "code",
   "execution_count": 7,
   "id": "82f924b6",
   "metadata": {},
   "outputs": [
    {
     "name": "stdout",
     "output_type": "stream",
     "text": [
      "Overwriting testutility.py\n"
     ]
    }
   ],
   "source": [
    "%%writefile testutility.py\n",
    "import logging\n",
    "import os\n",
    "import subprocess\n",
    "import yaml\n",
    "import pandas as pd\n",
    "import datetime \n",
    "import gc\n",
    "import re\n",
    "\n",
    "\n",
    "################\n",
    "# File Reading #\n",
    "################\n",
    "\n",
    "def read_config_file(filepath):\n",
    "    with open(filepath, 'r') as stream:\n",
    "        try:\n",
    "            return yaml.safe_load(stream)\n",
    "        except yaml.YAMLError as exc:\n",
    "            logging.error(exc)\n",
    "\n",
    "\n",
    "def replacer(string, char):\n",
    "    pattern = char + '{2,}'\n",
    "    string = re.sub(pattern, char, string) \n",
    "    return string\n",
    "\n",
    "def col_header_val(df, table_config):\n",
    "    '''\n",
    "    replace whitespaces in the column\n",
    "    and standardized column names\n",
    "    '''\n",
    "    df.columns = df.columns.str.lower()\n",
    "    df.columns = df.columns.str.replace('[^\\w]','_',regex=True)\n",
    "    df.columns = list(map(lambda x: x.strip('_'), list(df.columns)))\n",
    "    df.columns = list(map(lambda x: replacer(x,'_'), list(df.columns)))\n",
    "    expected_col = list(map(lambda x: x.lower(),  table_config['columns']))\n",
    "    expected_col.sort()\n",
    "    df.columns =list(map(lambda x: x.lower(), list(df.columns)))\n",
    "    df_columns = sorted(df.columns)\n",
    "    if len(df.columns) == len(expected_col) and list(expected_col)  == list(df_columns):\n",
    "        print(\"column name and column length validation passed\")\n",
    "        return 1\n",
    "    else:\n",
    "        print(\"column name and column length validation failed\")\n",
    "        mismatched_columns_file = list(set(df_columns).difference(expected_col))\n",
    "        print(\"Following File columns are not in the YAML file\",mismatched_columns_file)\n",
    "        missing_YAML_file = list(set(expected_col).difference(df.columns))\n",
    "        print(\"Following YAML columns are not in the file uploaded\",missing_YAML_file)\n",
    "        logging.info(f'df columns: {df_columns}')\n",
    "        logging.info(f'expected columns: {expected_col}')\n",
    "        return 0"
   ]
  },
  {
   "cell_type": "markdown",
   "id": "06636acb",
   "metadata": {},
   "source": [
    "# Writing yaml file"
   ]
  },
  {
   "cell_type": "code",
   "execution_count": 8,
   "id": "85dcff61",
   "metadata": {},
   "outputs": [
    {
     "name": "stdout",
     "output_type": "stream",
     "text": [
      "Overwriting file.yaml\n"
     ]
    }
   ],
   "source": [
    "%%writefile file.yaml\n",
    "file_type: csv\n",
    "file_name: KernelVersionOutputFiles\n",
    "inbound_delimiter: \",\"\n",
    "outbound_delimiter: \"|\"\n",
    "skip_leading_rows: 1\n",
    "dtype: {'CompressionTypeExtension': 'object'}\n",
    "columns: \n",
    "    - id\n",
    "    - kernelversionid\n",
    "    - filename\n",
    "    - contentlength\n",
    "    - contenttypeextension\n",
    "    - compressiontypeextension"
   ]
  },
  {
   "cell_type": "code",
   "execution_count": 9,
   "id": "dc7367e0",
   "metadata": {},
   "outputs": [],
   "source": [
    "import testutility as util\n",
    "config_data = util.read_config_file(\"file.yaml\")"
   ]
  },
  {
   "cell_type": "code",
   "execution_count": 10,
   "id": "420ca158",
   "metadata": {},
   "outputs": [],
   "source": [
    "file_path = './data/' + config_data['file_name'] + '.' + config_data['file_type']"
   ]
  },
  {
   "cell_type": "code",
   "execution_count": 11,
   "id": "1b6abf87",
   "metadata": {},
   "outputs": [],
   "source": [
    "df = dd.read_csv(file_path, sep=config_data['inbound_delimiter'], dtype=config_data['dtype'])"
   ]
  },
  {
   "cell_type": "code",
   "execution_count": 14,
   "id": "f2b19c1d",
   "metadata": {},
   "outputs": [],
   "source": [
    "df_test = dd.read_csv('data/DatasetVotes.csv', sep=',')"
   ]
  },
  {
   "cell_type": "code",
   "execution_count": 12,
   "id": "4911b5c2",
   "metadata": {},
   "outputs": [
    {
     "data": {
      "text/html": [
       "<div>\n",
       "<style scoped>\n",
       "    .dataframe tbody tr th:only-of-type {\n",
       "        vertical-align: middle;\n",
       "    }\n",
       "\n",
       "    .dataframe tbody tr th {\n",
       "        vertical-align: top;\n",
       "    }\n",
       "\n",
       "    .dataframe thead th {\n",
       "        text-align: right;\n",
       "    }\n",
       "</style>\n",
       "<table border=\"1\" class=\"dataframe\">\n",
       "  <thead>\n",
       "    <tr style=\"text-align: right;\">\n",
       "      <th></th>\n",
       "      <th>Id</th>\n",
       "      <th>KernelVersionId</th>\n",
       "      <th>FileName</th>\n",
       "      <th>ContentLength</th>\n",
       "      <th>ContentTypeExtension</th>\n",
       "      <th>CompressionTypeExtension</th>\n",
       "    </tr>\n",
       "  </thead>\n",
       "  <tbody>\n",
       "    <tr>\n",
       "      <th>0</th>\n",
       "      <td>1</td>\n",
       "      <td>2</td>\n",
       "      <td>DigitsEmbedding.png</td>\n",
       "      <td>95544</td>\n",
       "      <td>.png</td>\n",
       "      <td>NaN</td>\n",
       "    </tr>\n",
       "    <tr>\n",
       "      <th>1</th>\n",
       "      <td>47</td>\n",
       "      <td>59</td>\n",
       "      <td>digit.png</td>\n",
       "      <td>52771</td>\n",
       "      <td>.png</td>\n",
       "      <td>NaN</td>\n",
       "    </tr>\n",
       "    <tr>\n",
       "      <th>2</th>\n",
       "      <td>48</td>\n",
       "      <td>59</td>\n",
       "      <td>digit2.png</td>\n",
       "      <td>7393</td>\n",
       "      <td>.png</td>\n",
       "      <td>NaN</td>\n",
       "    </tr>\n",
       "    <tr>\n",
       "      <th>3</th>\n",
       "      <td>65</td>\n",
       "      <td>70</td>\n",
       "      <td>digit.png</td>\n",
       "      <td>52771</td>\n",
       "      <td>.png</td>\n",
       "      <td>NaN</td>\n",
       "    </tr>\n",
       "    <tr>\n",
       "      <th>4</th>\n",
       "      <td>66</td>\n",
       "      <td>70</td>\n",
       "      <td>digit2.png</td>\n",
       "      <td>7393</td>\n",
       "      <td>.png</td>\n",
       "      <td>NaN</td>\n",
       "    </tr>\n",
       "  </tbody>\n",
       "</table>\n",
       "</div>"
      ],
      "text/plain": [
       "   Id  KernelVersionId             FileName  ContentLength  \\\n",
       "0   1                2  DigitsEmbedding.png          95544   \n",
       "1  47               59            digit.png          52771   \n",
       "2  48               59           digit2.png           7393   \n",
       "3  65               70            digit.png          52771   \n",
       "4  66               70           digit2.png           7393   \n",
       "\n",
       "  ContentTypeExtension CompressionTypeExtension  \n",
       "0                 .png                      NaN  \n",
       "1                 .png                      NaN  \n",
       "2                 .png                      NaN  \n",
       "3                 .png                      NaN  \n",
       "4                 .png                      NaN  "
      ]
     },
     "execution_count": 12,
     "metadata": {},
     "output_type": "execute_result"
    }
   ],
   "source": [
    "df.head()"
   ]
  },
  {
   "cell_type": "code",
   "execution_count": 13,
   "id": "63132542",
   "metadata": {},
   "outputs": [
    {
     "name": "stdout",
     "output_type": "stream",
     "text": [
      "column name and column length validation passed\n"
     ]
    },
    {
     "data": {
      "text/plain": [
       "1"
      ]
     },
     "execution_count": 13,
     "metadata": {},
     "output_type": "execute_result"
    }
   ],
   "source": [
    "util.col_header_val(df, config_data)"
   ]
  },
  {
   "cell_type": "code",
   "execution_count": 15,
   "id": "37af45ef",
   "metadata": {},
   "outputs": [
    {
     "name": "stdout",
     "output_type": "stream",
     "text": [
      "column name and column length validation failed\n",
      "Following File columns are not in the YAML file ['datasetversionid', 'userid', 'votedate']\n",
      "Following YAML columns are not in the file uploaded ['compressiontypeextension', 'filename', 'contentlength', 'kernelversionid', 'contenttypeextension']\n"
     ]
    },
    {
     "data": {
      "text/plain": [
       "0"
      ]
     },
     "execution_count": 15,
     "metadata": {},
     "output_type": "execute_result"
    }
   ],
   "source": [
    "util.col_header_val(df_test, config_data)"
   ]
  },
  {
   "cell_type": "code",
   "execution_count": 16,
   "id": "a55d218c",
   "metadata": {},
   "outputs": [
    {
     "name": "stdout",
     "output_type": "stream",
     "text": [
      "column name and column length validation passed\n",
      "col validation passed\n"
     ]
    }
   ],
   "source": [
    "if util.col_header_val(df, config_data)==0:\n",
    "    print(\"validation failed\")\n",
    "    # write code to reject the file\n",
    "else:\n",
    "    print(\"col validation passed\")\n",
    "    # write the code to perform further action\n",
    "    # in the pipleine"
   ]
  },
  {
   "cell_type": "code",
   "execution_count": null,
   "id": "96804292",
   "metadata": {},
   "outputs": [],
   "source": [
    "df.to_csv(\"file.csv.gz\", index=False, compression=\"gzip\")"
   ]
  },
  {
   "cell_type": "code",
   "execution_count": null,
   "id": "25a046fc",
   "metadata": {},
   "outputs": [],
   "source": []
  }
 ],
 "metadata": {
  "kernelspec": {
   "display_name": "Python 3",
   "language": "python",
   "name": "python3"
  },
  "language_info": {
   "codemirror_mode": {
    "name": "ipython",
    "version": 3
   },
   "file_extension": ".py",
   "mimetype": "text/x-python",
   "name": "python",
   "nbconvert_exporter": "python",
   "pygments_lexer": "ipython3",
   "version": "3.9.6"
  }
 },
 "nbformat": 4,
 "nbformat_minor": 5
}
